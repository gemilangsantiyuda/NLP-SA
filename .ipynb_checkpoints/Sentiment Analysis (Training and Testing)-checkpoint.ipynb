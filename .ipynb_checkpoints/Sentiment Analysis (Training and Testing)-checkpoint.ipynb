{
 "cells": [
  {
   "cell_type": "markdown",
   "metadata": {
    "colab_type": "text",
    "id": "vLiIJNJ2gJRp"
   },
   "source": [
    "##Input Csv to Pandas"
   ]
  },
  {
   "cell_type": "code",
   "execution_count": 0,
   "metadata": {
    "colab": {},
    "colab_type": "code",
    "id": "VTXcs2_62hjQ"
   },
   "outputs": [],
   "source": [
    "import pandas as pd\n",
    "import numpy as np"
   ]
  },
  {
   "cell_type": "code",
   "execution_count": 0,
   "metadata": {
    "colab": {},
    "colab_type": "code",
    "id": "lAYbFtNo1bCI"
   },
   "outputs": [],
   "source": [
    "!pip install -U -q PyDrive\n",
    "\n",
    "from pydrive.auth import GoogleAuth\n",
    "from pydrive.drive import GoogleDrive\n",
    "from google.colab import auth\n",
    "from oauth2client.client import GoogleCredentials\n",
    "\n",
    "auth.authenticate_user()\n",
    "gauth = GoogleAuth()\n",
    "gauth.credentials = GoogleCredentials.get_application_default()\n",
    "drive = GoogleDrive(gauth)"
   ]
  },
  {
   "cell_type": "code",
   "execution_count": 0,
   "metadata": {
    "colab": {},
    "colab_type": "code",
    "id": "hAHwAN7b87h_"
   },
   "outputs": [],
   "source": [
    "dataTestFileID = \"1KNaMPpNwYPTWteYDcBH3eaAH40Hd0hbD\"\n",
    "dataTrainFileID = \"1-0v6W8gQiFfMgdAOs-cP1gh6-jBHnMhz\"\n",
    "dataTrain2FileID = \"1CrH_a9P5GNcu-GEntz7DL-K3XXueVkOv\""
   ]
  },
  {
   "cell_type": "code",
   "execution_count": 0,
   "metadata": {
    "colab": {},
    "colab_type": "code",
    "id": "ZrvWca6C9VgD"
   },
   "outputs": [],
   "source": [
    "from io import StringIO\n",
    "testFile = drive.CreateFile({'id': dataTestFileID})\n",
    "trainFile = drive.CreateFile({'id': dataTrainFileID})\n",
    "# train2File = drive.CreateFile({'id': dataTrain2FileID})\n",
    "testBuffer = StringIO(testFile.GetContentString())\n",
    "trainBuffer = StringIO(trainFile.GetContentString())\n",
    "# train2Buffer = StringIO(train2File.GetContentString())"
   ]
  },
  {
   "cell_type": "code",
   "execution_count": 0,
   "metadata": {
    "colab": {},
    "colab_type": "code",
    "id": "IxEPOtclgMiA"
   },
   "outputs": [],
   "source": [
    "dataTest = pd.read_csv(testBuffer, index_col=0)\n",
    "dataTest = dataTest.dropna()\n",
    "dataTrain = pd.read_csv(trainBuffer, index_col=0)\n",
    "dataTrain = dataTrain.dropna()\n",
    "# dataTrain2 = pd.read_csv(train2Buffer, index_col=0)\n",
    "# dataTrain2.columns = [\"Text\",\"Verdict\"]\n",
    "# dataTrain2 = dataTrain2.dropna()"
   ]
  },
  {
   "cell_type": "code",
   "execution_count": 18,
   "metadata": {
    "colab": {
     "base_uri": "https://localhost:8080/",
     "height": 255
    },
    "colab_type": "code",
    "executionInfo": {
     "elapsed": 2253,
     "status": "ok",
     "timestamp": 1543574425346,
     "user": {
      "displayName": "Gemilang Santiyuda",
      "photoUrl": "",
      "userId": "13933041437764231854"
     },
     "user_tz": 0
    },
    "id": "66LRPINCh3TO",
    "outputId": "5ceaa263-842c-447f-9c9e-8f84e97281e4"
   },
   "outputs": [
    {
     "name": "stdout",
     "output_type": "stream",
     "text": [
      "<class 'pandas.core.frame.DataFrame'>\n",
      "Int64Index: 0 entries\n",
      "Data columns (total 2 columns):\n",
      "Text       0 non-null object\n",
      "Verdict    0 non-null int64\n",
      "dtypes: int64(1), object(1)\n",
      "memory usage: 0.0+ bytes\n",
      "<class 'pandas.core.frame.DataFrame'>\n",
      "Int64Index: 0 entries\n",
      "Data columns (total 2 columns):\n",
      "Text       0 non-null object\n",
      "Verdict    0 non-null int64\n",
      "dtypes: int64(1), object(1)\n",
      "memory usage: 0.0+ bytes\n"
     ]
    }
   ],
   "source": [
    "\n",
    "\n",
    "# #if using the big dataTrain\n",
    "# dataTrain = dataTrain2\n",
    "# dataTest = dataTest.drop((dataTest.Verdict==2).index)\n",
    "dataTest.info()\n",
    "dataTrain.info()"
   ]
  },
  {
   "cell_type": "markdown",
   "metadata": {
    "colab_type": "text",
    "id": "JycS2OvdipHw"
   },
   "source": [
    "##Training Doc2Vec Model"
   ]
  },
  {
   "cell_type": "code",
   "execution_count": 7,
   "metadata": {
    "colab": {
     "base_uri": "https://localhost:8080/",
     "height": 343
    },
    "colab_type": "code",
    "executionInfo": {
     "elapsed": 16916,
     "status": "ok",
     "timestamp": 1543573697053,
     "user": {
      "displayName": "Gemilang Santiyuda",
      "photoUrl": "",
      "userId": "13933041437764231854"
     },
     "user_tz": 0
    },
    "id": "Td8vrOJJioZQ",
    "outputId": "6f1c2284-77bc-4947-8f64-256fb90f1cae"
   },
   "outputs": [
    {
     "name": "stdout",
     "output_type": "stream",
     "text": [
      "Requirement already up-to-date: gensim in /usr/local/lib/python3.6/dist-packages (3.6.0)\n",
      "Requirement already satisfied, skipping upgrade: six>=1.5.0 in /usr/local/lib/python3.6/dist-packages (from gensim) (1.11.0)\n",
      "Requirement already satisfied, skipping upgrade: smart-open>=1.2.1 in /usr/local/lib/python3.6/dist-packages (from gensim) (1.7.1)\n",
      "Requirement already satisfied, skipping upgrade: scipy>=0.18.1 in /usr/local/lib/python3.6/dist-packages (from gensim) (1.1.0)\n",
      "Requirement already satisfied, skipping upgrade: numpy>=1.11.3 in /usr/local/lib/python3.6/dist-packages (from gensim) (1.14.6)\n",
      "Requirement already satisfied, skipping upgrade: bz2file in /usr/local/lib/python3.6/dist-packages (from smart-open>=1.2.1->gensim) (0.98)\n",
      "Requirement already satisfied, skipping upgrade: boto>=2.32 in /usr/local/lib/python3.6/dist-packages (from smart-open>=1.2.1->gensim) (2.49.0)\n",
      "Requirement already satisfied, skipping upgrade: requests in /usr/local/lib/python3.6/dist-packages (from smart-open>=1.2.1->gensim) (2.18.4)\n",
      "Requirement already satisfied, skipping upgrade: boto3 in /usr/local/lib/python3.6/dist-packages (from smart-open>=1.2.1->gensim) (1.9.56)\n",
      "Requirement already satisfied, skipping upgrade: certifi>=2017.4.17 in /usr/local/lib/python3.6/dist-packages (from requests->smart-open>=1.2.1->gensim) (2018.10.15)\n",
      "Requirement already satisfied, skipping upgrade: urllib3<1.23,>=1.21.1 in /usr/local/lib/python3.6/dist-packages (from requests->smart-open>=1.2.1->gensim) (1.22)\n",
      "Requirement already satisfied, skipping upgrade: chardet<3.1.0,>=3.0.2 in /usr/local/lib/python3.6/dist-packages (from requests->smart-open>=1.2.1->gensim) (3.0.4)\n",
      "Requirement already satisfied, skipping upgrade: idna<2.7,>=2.5 in /usr/local/lib/python3.6/dist-packages (from requests->smart-open>=1.2.1->gensim) (2.6)\n",
      "Requirement already satisfied, skipping upgrade: s3transfer<0.2.0,>=0.1.10 in /usr/local/lib/python3.6/dist-packages (from boto3->smart-open>=1.2.1->gensim) (0.1.13)\n",
      "Requirement already satisfied, skipping upgrade: botocore<1.13.0,>=1.12.56 in /usr/local/lib/python3.6/dist-packages (from boto3->smart-open>=1.2.1->gensim) (1.12.56)\n",
      "Requirement already satisfied, skipping upgrade: jmespath<1.0.0,>=0.7.1 in /usr/local/lib/python3.6/dist-packages (from boto3->smart-open>=1.2.1->gensim) (0.9.3)\n",
      "Requirement already satisfied, skipping upgrade: docutils>=0.10 in /usr/local/lib/python3.6/dist-packages (from botocore<1.13.0,>=1.12.56->boto3->smart-open>=1.2.1->gensim) (0.14)\n",
      "Requirement already satisfied, skipping upgrade: python-dateutil<3.0.0,>=2.1; python_version >= \"2.7\" in /usr/local/lib/python3.6/dist-packages (from botocore<1.13.0,>=1.12.56->boto3->smart-open>=1.2.1->gensim) (2.5.3)\n"
     ]
    }
   ],
   "source": [
    "!pip install -U gensim\n",
    "import multiprocessing\n",
    "from gensim.models import Doc2Vec\n",
    "import gensim.models.doc2vec\n",
    "from gensim.models.doc2vec import TaggedDocument\n",
    "cores = multiprocessing.cpu_count()\n",
    "\n",
    "assert gensim.models.doc2vec.FAST_VERSION > -1"
   ]
  },
  {
   "cell_type": "markdown",
   "metadata": {
    "colab_type": "text",
    "id": "_phqlewMqClU"
   },
   "source": [
    "###Prepare tagged data train"
   ]
  },
  {
   "cell_type": "code",
   "execution_count": 0,
   "metadata": {
    "colab": {},
    "colab_type": "code",
    "id": "OnefTEZJqE4-"
   },
   "outputs": [],
   "source": [
    "taggedDataTrain = []\n",
    "for row in dataTrain.itertuples(index=True,name=\"Pandas\"):\n",
    "  text = row.Text  \n",
    "  words = text.split()    \n",
    "  verdict = getattr(row,\"Verdict\")\n",
    "  tags = [str(verdict), str(row.Index)]\n",
    "  taggedDataTrain.append(TaggedDocument(words,tags))  "
   ]
  },
  {
   "cell_type": "markdown",
   "metadata": {
    "colab_type": "text",
    "id": "8qFglYk6sPbX"
   },
   "source": [
    "###Initialize model"
   ]
  },
  {
   "cell_type": "code",
   "execution_count": 0,
   "metadata": {
    "colab": {},
    "colab_type": "code",
    "id": "Ox8DYSSSmV4Q"
   },
   "outputs": [],
   "source": [
    "model = Doc2Vec(dm=1, alpha = 0.02, min_alpha = 0.0025, dm_concat=1, vector_size=100, window=5, negative=5, hs=0, min_count=1, sample=0, epochs=20, workers=cores)\n",
    "model.build_vocab(taggedDataTrain)"
   ]
  },
  {
   "cell_type": "markdown",
   "metadata": {
    "colab_type": "text",
    "id": "9BFP9zE7sWtv"
   },
   "source": [
    "###Train the model"
   ]
  },
  {
   "cell_type": "code",
   "execution_count": 14,
   "metadata": {
    "colab": {
     "base_uri": "https://localhost:8080/",
     "height": 241
    },
    "colab_type": "code",
    "executionInfo": {
     "elapsed": 14630,
     "status": "ok",
     "timestamp": 1543574279235,
     "user": {
      "displayName": "Gemilang Santiyuda",
      "photoUrl": "",
      "userId": "13933041437764231854"
     },
     "user_tz": 0
    },
    "id": "FZULJ6LjsVIC",
    "outputId": "2a80f8ff-16a7-4cec-c268-df43f5da411a"
   },
   "outputs": [
    {
     "name": "stdout",
     "output_type": "stream",
     "text": [
      "Now training epoch 1\n"
     ]
    },
    {
     "name": "stderr",
     "output_type": "stream",
     "text": [
      "/usr/local/lib/python3.6/dist-packages/ipykernel_launcher.py:3: DeprecationWarning: Call to deprecated `iter` (Attribute will be removed in 4.0.0, use self.epochs instead).\n",
      "  This is separate from the ipykernel package so we can avoid doing imports until\n"
     ]
    },
    {
     "name": "stdout",
     "output_type": "stream",
     "text": [
      "Now training epoch 2\n",
      "Now training epoch 3\n",
      "Now training epoch 4\n",
      "Now training epoch 5\n",
      "Now training epoch 6\n",
      "Now training epoch 7\n",
      "Now training epoch 8\n",
      "Now training epoch 9\n",
      "Now training epoch 10\n"
     ]
    }
   ],
   "source": [
    "for epoch in range(10):\n",
    "  print(\"Now training epoch\",epoch+1)\n",
    "  model.train(taggedDataTrain, total_examples = model.corpus_count, epochs = model.iter )\n",
    "  model.alpha-= 0.0002\n",
    "  model.min_alpha=model.alpha"
   ]
  },
  {
   "cell_type": "markdown",
   "metadata": {
    "colab_type": "text",
    "id": "_EseCmaE1yxB"
   },
   "source": [
    "##Testing"
   ]
  },
  {
   "cell_type": "code",
   "execution_count": 0,
   "metadata": {
    "colab": {},
    "colab_type": "code",
    "id": "PdFf2boCuQ2e"
   },
   "outputs": [],
   "source": [
    "testWords = [ text.split() for text in dataTest[\"Text\"] ]\n",
    "testVerdict = [ verdict for verdict in dataTest[\"Verdict\"] ]"
   ]
  },
  {
   "cell_type": "code",
   "execution_count": 16,
   "metadata": {
    "colab": {
     "base_uri": "https://localhost:8080/",
     "height": 71
    },
    "colab_type": "code",
    "executionInfo": {
     "elapsed": 44327,
     "status": "ok",
     "timestamp": 1543574350091,
     "user": {
      "displayName": "Gemilang Santiyuda",
      "photoUrl": "",
      "userId": "13933041437764231854"
     },
     "user_tz": 0
    },
    "id": "B8IgTp753jKT",
    "outputId": "6dfc533c-3d5f-46de-9d59-45e578c64c76"
   },
   "outputs": [
    {
     "name": "stderr",
     "output_type": "stream",
     "text": [
      "/usr/local/lib/python3.6/dist-packages/gensim/matutils.py:737: FutureWarning: Conversion of the second argument of issubdtype from `int` to `np.signedinteger` is deprecated. In future, it will be treated as `np.int64 == np.dtype(int).type`.\n",
      "  if np.issubdtype(vec.dtype, np.int):\n"
     ]
    }
   ],
   "source": [
    "testPredict = []\n",
    "for words in testWords:\n",
    "  v1 = model.infer_vector(words)\n",
    "  sim = model.docvecs.most_similar([v1])   \n",
    "  \n",
    "  #voting system\n",
    "  \n",
    "  simTrainIdx = int(sim[0][0])\n",
    "  \n",
    "  \n",
    "  predict = int(dataTrain[\"Verdict\"][simTrainIdx])    \n",
    "    \n",
    "  testPredict.append(predict)"
   ]
  },
  {
   "cell_type": "markdown",
   "metadata": {
    "colab_type": "text",
    "id": "0KiPKuK74SyV"
   },
   "source": [
    "###Check Fitness"
   ]
  },
  {
   "cell_type": "code",
   "execution_count": 17,
   "metadata": {
    "colab": {
     "base_uri": "https://localhost:8080/",
     "height": 34
    },
    "colab_type": "code",
    "executionInfo": {
     "elapsed": 44322,
     "status": "ok",
     "timestamp": 1543574350094,
     "user": {
      "displayName": "Gemilang Santiyuda",
      "photoUrl": "",
      "userId": "13933041437764231854"
     },
     "user_tz": 0
    },
    "id": "q-WzCZqb4QfJ",
    "outputId": "6e947d69-1122-4b93-88de-7e35ff161604"
   },
   "outputs": [
    {
     "name": "stdout",
     "output_type": "stream",
     "text": [
      "0.3694925112694489\n"
     ]
    }
   ],
   "source": [
    "score = 0.\n",
    "for idx in range(len(testPredict)):\n",
    "  prediction = testPredict[idx]\n",
    "  verdict = testVerdict[idx]\n",
    "  if (prediction == verdict):\n",
    "    score+=1\n",
    "    \n",
    "fitness = score/len(testWords)\n",
    "print(fitness)"
   ]
  }
 ],
 "metadata": {
  "colab": {
   "name": "Sentiment Analysis (Training and Testing).ipynb",
   "provenance": [],
   "version": "0.3.2"
  },
  "kernelspec": {
   "display_name": "Python 3",
   "language": "python",
   "name": "python3"
  },
  "language_info": {
   "codemirror_mode": {
    "name": "ipython",
    "version": 3
   },
   "file_extension": ".py",
   "mimetype": "text/x-python",
   "name": "python",
   "nbconvert_exporter": "python",
   "pygments_lexer": "ipython3",
   "version": "3.7.1"
  }
 },
 "nbformat": 4,
 "nbformat_minor": 1
}
