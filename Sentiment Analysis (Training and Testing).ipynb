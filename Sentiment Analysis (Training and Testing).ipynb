{
 "cells": [
  {
   "cell_type": "markdown",
   "metadata": {
    "colab_type": "text",
    "id": "vLiIJNJ2gJRp"
   },
   "source": [
    "## Input CSV to Pandas"
   ]
  },
  {
   "cell_type": "code",
   "execution_count": 1,
   "metadata": {
    "colab": {},
    "colab_type": "code",
    "id": "VTXcs2_62hjQ"
   },
   "outputs": [],
   "source": [
    "import pandas as pd\n",
    "import numpy as np"
   ]
  },
  {
   "cell_type": "code",
   "execution_count": 4,
   "metadata": {
    "colab": {},
    "colab_type": "code",
    "id": "lAYbFtNo1bCI"
   },
   "outputs": [],
   "source": [
    "dataTrain = pd.read_csv(\"clean_tweet_training.csv\", index_col=False)\n",
    "dataTest = pd.read_csv(\"clean_tweet_test.csv\", index_col=False)"
   ]
  },
  {
   "cell_type": "code",
   "execution_count": 7,
   "metadata": {
    "colab": {},
    "colab_type": "code",
    "id": "hAHwAN7b87h_"
   },
   "outputs": [
    {
     "name": "stdout",
     "output_type": "stream",
     "text": [
      "<class 'pandas.core.frame.DataFrame'>\n",
      "Int64Index: 29702 entries, 0 to 29701\n",
      "Data columns (total 3 columns):\n",
      "Unnamed: 0    29702 non-null int64\n",
      "Text          29702 non-null object\n",
      "Verdict       29702 non-null int64\n",
      "dtypes: int64(2), object(1)\n",
      "memory usage: 928.2+ KB\n",
      "<class 'pandas.core.frame.DataFrame'>\n",
      "Int64Index: 20631 entries, 0 to 20631\n",
      "Data columns (total 3 columns):\n",
      "Unnamed: 0    20631 non-null int64\n",
      "Text          20631 non-null object\n",
      "Verdict       20631 non-null int64\n",
      "dtypes: int64(2), object(1)\n",
      "memory usage: 644.7+ KB\n"
     ]
    }
   ],
   "source": [
    "dataTrain = dataTrain.dropna()\n",
    "dataTest = dataTest.dropna()\n",
    "dataTrain.info()\n",
    "dataTest.info()"
   ]
  },
  {
   "cell_type": "markdown",
   "metadata": {
    "colab_type": "text",
    "id": "JycS2OvdipHw"
   },
   "source": [
    "## Training Doc2Vec Model"
   ]
  },
  {
   "cell_type": "code",
   "execution_count": 9,
   "metadata": {
    "colab": {
     "base_uri": "https://localhost:8080/",
     "height": 343
    },
    "colab_type": "code",
    "executionInfo": {
     "elapsed": 16916,
     "status": "ok",
     "timestamp": 1543573697053,
     "user": {
      "displayName": "Gemilang Santiyuda",
      "photoUrl": "",
      "userId": "13933041437764231854"
     },
     "user_tz": 0
    },
    "id": "Td8vrOJJioZQ",
    "outputId": "6f1c2284-77bc-4947-8f64-256fb90f1cae"
   },
   "outputs": [
    {
     "name": "stdout",
     "output_type": "stream",
     "text": [
      "Requirement already up-to-date: gensim in /home/gemilang/.local/lib/python3.7/site-packages (3.6.0)\n",
      "Requirement already satisfied, skipping upgrade: numpy>=1.11.3 in /home/gemilang/.local/lib/python3.7/site-packages (from gensim) (1.15.3)\n",
      "Requirement already satisfied, skipping upgrade: scipy>=0.18.1 in /home/gemilang/.local/lib/python3.7/site-packages (from gensim) (1.1.0)\n",
      "Requirement already satisfied, skipping upgrade: six>=1.5.0 in /usr/lib/python3.7/site-packages (from gensim) (1.11.0)\n",
      "Requirement already satisfied, skipping upgrade: smart_open>=1.2.1 in /home/gemilang/.local/lib/python3.7/site-packages (from gensim) (1.7.1)\n",
      "Requirement already satisfied, skipping upgrade: boto>=2.32 in /home/gemilang/.local/lib/python3.7/site-packages (from smart_open>=1.2.1->gensim) (2.49.0)\n",
      "Requirement already satisfied, skipping upgrade: bz2file in /home/gemilang/.local/lib/python3.7/site-packages (from smart_open>=1.2.1->gensim) (0.98)\n",
      "Requirement already satisfied, skipping upgrade: requests in /usr/lib/python3.7/site-packages (from smart_open>=1.2.1->gensim) (2.20.0)\n",
      "Requirement already satisfied, skipping upgrade: boto3 in /home/gemilang/.local/lib/python3.7/site-packages (from smart_open>=1.2.1->gensim) (1.9.57)\n",
      "Requirement already satisfied, skipping upgrade: chardet>=3.0.2 in /usr/lib/python3.7/site-packages (from requests->smart_open>=1.2.1->gensim) (3.0.4)\n",
      "Requirement already satisfied, skipping upgrade: idna>=2.5 in /usr/lib/python3.7/site-packages (from requests->smart_open>=1.2.1->gensim) (2.7)\n",
      "Requirement already satisfied, skipping upgrade: urllib3>=1.21.1 in /usr/lib/python3.7/site-packages (from requests->smart_open>=1.2.1->gensim) (1.24)\n",
      "Requirement already satisfied, skipping upgrade: jmespath<1.0.0,>=0.7.1 in /home/gemilang/.local/lib/python3.7/site-packages (from boto3->smart_open>=1.2.1->gensim) (0.9.3)\n",
      "Requirement already satisfied, skipping upgrade: s3transfer<0.2.0,>=0.1.10 in /home/gemilang/.local/lib/python3.7/site-packages (from boto3->smart_open>=1.2.1->gensim) (0.1.13)\n",
      "Requirement already satisfied, skipping upgrade: botocore<1.13.0,>=1.12.57 in /home/gemilang/.local/lib/python3.7/site-packages (from boto3->smart_open>=1.2.1->gensim) (1.12.57)\n",
      "Requirement already satisfied, skipping upgrade: python-dateutil<3.0.0,>=2.1; python_version >= \"2.7\" in /home/gemilang/.local/lib/python3.7/site-packages (from botocore<1.13.0,>=1.12.57->boto3->smart_open>=1.2.1->gensim) (2.7.5)\n",
      "Requirement already satisfied, skipping upgrade: docutils>=0.10 in /home/gemilang/.local/lib/python3.7/site-packages (from botocore<1.13.0,>=1.12.57->boto3->smart_open>=1.2.1->gensim) (0.14)\n"
     ]
    }
   ],
   "source": [
    "!pip install -U gensim\n",
    "import multiprocessing\n",
    "from gensim.models import Doc2Vec\n",
    "import gensim.models.doc2vec\n",
    "cores = multiprocessing.cpu_count()\n",
    "\n",
    "assert gensim.models.doc2vec.FAST_VERSION > -1"
   ]
  },
  {
   "cell_type": "markdown",
   "metadata": {
    "colab_type": "text",
    "id": "_phqlewMqClU"
   },
   "source": [
    "### Prepare tagged data (taggedDocuments from gensim)"
   ]
  },
  {
   "cell_type": "code",
   "execution_count": 27,
   "metadata": {},
   "outputs": [],
   "source": [
    "from gensim.models.doc2vec import TaggedDocument\n",
    "from nltk.tokenize import ToktokTokenizer\n",
    "toktok = ToktokTokenizer().tokenize"
   ]
  },
  {
   "cell_type": "code",
   "execution_count": 31,
   "metadata": {},
   "outputs": [],
   "source": [
    "def GetTaggedData(data):\n",
    "    taggedData = []\n",
    "    for row in data.itertuples(index=True,name=\"Pandas\"):\n",
    "      text = row.Text  \n",
    "      words = toktok(text)    \n",
    "      verdict = getattr(row,\"Verdict\")\n",
    "      tags = [str(verdict), str(row.Index)]\n",
    "      taggedData.append(TaggedDocument(words,tags))  \n",
    "    return taggedData"
   ]
  },
  {
   "cell_type": "code",
   "execution_count": 32,
   "metadata": {
    "colab": {},
    "colab_type": "code",
    "id": "OnefTEZJqE4-"
   },
   "outputs": [],
   "source": [
    "taggedDataTrain = GetTaggedData(dataTrain)\n",
    "taggedDataTest = GetTaggedData(dataTest)"
   ]
  },
  {
   "cell_type": "markdown",
   "metadata": {
    "colab_type": "text",
    "id": "8qFglYk6sPbX"
   },
   "source": [
    "### Initialize model"
   ]
  },
  {
   "cell_type": "code",
   "execution_count": 19,
   "metadata": {
    "colab": {},
    "colab_type": "code",
    "id": "Ox8DYSSSmV4Q"
   },
   "outputs": [
    {
     "name": "stdout",
     "output_type": "stream",
     "text": [
      "CPU times: user 754 ms, sys: 0 ns, total: 754 ms\n",
      "Wall time: 753 ms\n"
     ]
    }
   ],
   "source": [
    "%%time\n",
    "model = Doc2Vec(dm=1, alpha = 0.02, min_alpha = 0.0025, dm_concat=1, vector_size=100, window=5, negative=5, hs=0, min_count=1, sample=0, epochs=20, workers=cores)\n",
    "model.build_vocab(taggedDataTrain)"
   ]
  },
  {
   "cell_type": "markdown",
   "metadata": {
    "colab_type": "text",
    "id": "9BFP9zE7sWtv"
   },
   "source": [
    "### Train the model"
   ]
  },
  {
   "cell_type": "code",
   "execution_count": 20,
   "metadata": {
    "colab": {
     "base_uri": "https://localhost:8080/",
     "height": 241
    },
    "colab_type": "code",
    "executionInfo": {
     "elapsed": 14630,
     "status": "ok",
     "timestamp": 1543574279235,
     "user": {
      "displayName": "Gemilang Santiyuda",
      "photoUrl": "",
      "userId": "13933041437764231854"
     },
     "user_tz": 0
    },
    "id": "FZULJ6LjsVIC",
    "outputId": "2a80f8ff-16a7-4cec-c268-df43f5da411a"
   },
   "outputs": [
    {
     "name": "stdout",
     "output_type": "stream",
     "text": [
      "Now training epoch 1\n",
      "Now training epoch 2\n",
      "Now training epoch 3\n",
      "Now training epoch 4\n",
      "Now training epoch 5\n",
      "Now training epoch 6\n",
      "Now training epoch 7\n",
      "Now training epoch 8\n",
      "Now training epoch 9\n",
      "Now training epoch 10\n",
      "Now training epoch 11\n",
      "Now training epoch 12\n",
      "Now training epoch 13\n",
      "Now training epoch 14\n",
      "Now training epoch 15\n",
      "Now training epoch 16\n",
      "Now training epoch 17\n",
      "Now training epoch 18\n",
      "Now training epoch 19\n",
      "Now training epoch 20\n",
      "Now training epoch 21\n",
      "Now training epoch 22\n",
      "Now training epoch 23\n",
      "Now training epoch 24\n",
      "Now training epoch 25\n",
      "Now training epoch 26\n",
      "Now training epoch 27\n",
      "Now training epoch 28\n",
      "Now training epoch 29\n",
      "Now training epoch 30\n",
      "Now training epoch 31\n",
      "Now training epoch 32\n",
      "Now training epoch 33\n",
      "Now training epoch 34\n",
      "Now training epoch 35\n",
      "Now training epoch 36\n",
      "Now training epoch 37\n",
      "Now training epoch 38\n",
      "Now training epoch 39\n",
      "Now training epoch 40\n",
      "CPU times: user 3min 1s, sys: 1.48 s, total: 3min 3s\n",
      "Wall time: 3min 1s\n"
     ]
    }
   ],
   "source": [
    "%%time\n",
    "MAX_ITERATION = 10\n",
    "for epoch in range(MAX_ITERATION):\n",
    "  print(\"Now training epoch\",epoch+1)\n",
    "  model.train(taggedDataTrain, total_examples = model.corpus_count, epochs = model.epochs )\n",
    "  model.alpha-= 0.0002\n",
    "  model.min_alpha=model.alpha"
   ]
  },
  {
   "cell_type": "markdown",
   "metadata": {},
   "source": [
    "### saving the doc2vec model"
   ]
  },
  {
   "cell_type": "code",
   "execution_count": 21,
   "metadata": {},
   "outputs": [],
   "source": [
    "from gensim.test.utils import get_tmpfile\n",
    "fname = get_tmpfile(\"doc2vec_model1\")\n",
    "model.save(fname)"
   ]
  },
  {
   "cell_type": "markdown",
   "metadata": {},
   "source": [
    "## Using Logistic Regression to Predict the dataTest"
   ]
  },
  {
   "cell_type": "markdown",
   "metadata": {},
   "source": [
    "### Prearing feature vector for the classifier"
   ]
  },
  {
   "cell_type": "code",
   "execution_count": 38,
   "metadata": {},
   "outputs": [],
   "source": [
    "def GetLearningVec(model, taggedData):\n",
    "    X_data, Y_data = [], []\n",
    "    for data in taggedData:\n",
    "        words = data[0]\n",
    "        verdict = data[1][0]\n",
    "        vector = model.infer_vector(words)\n",
    "        X_data.append(vector)\n",
    "        Y_data.append(float(verdict))\n",
    "    return X_data,Y_data"
   ]
  },
  {
   "cell_type": "code",
   "execution_count": 39,
   "metadata": {},
   "outputs": [],
   "source": [
    "%%time\n",
    "X_dataTrain, Y_dataTrain = GetLearningVec(model, taggedDataTrain)\n",
    "X_dataTest, Y_dataTest = GetLearningVec(model, taggedDataTest)"
   ]
  },
  {
   "cell_type": "markdown",
   "metadata": {},
   "source": [
    "### Training the logistic regression classifier"
   ]
  },
  {
   "cell_type": "code",
   "execution_count": 40,
   "metadata": {},
   "outputs": [
    {
     "name": "stderr",
     "output_type": "stream",
     "text": [
      "/home/gemilang/.local/lib/python3.7/site-packages/sklearn/linear_model/logistic.py:432: FutureWarning: Default solver will be changed to 'lbfgs' in 0.22. Specify a solver to silence this warning.\n",
      "  FutureWarning)\n",
      "/home/gemilang/.local/lib/python3.7/site-packages/sklearn/linear_model/logistic.py:459: FutureWarning: Default multi_class will be changed to 'auto' in 0.22. Specify the multi_class option to silence this warning.\n",
      "  \"this warning.\", FutureWarning)\n"
     ]
    },
    {
     "name": "stdout",
     "output_type": "stream",
     "text": [
      "CPU times: user 786 ms, sys: 22.4 ms, total: 808 ms\n",
      "Wall time: 969 ms\n"
     ]
    }
   ],
   "source": [
    "%%time\n",
    "from sklearn.linear_model import LogisticRegression\n",
    "logreg = LogisticRegression(n_jobs=1, C=1e5)\n",
    "logreg.fit(X_dataTrain, Y_dataTrain)\n",
    "Y_prediction = logreg.predict(X_dataTest)"
   ]
  },
  {
   "cell_type": "markdown",
   "metadata": {
    "colab_type": "text",
    "id": "0KiPKuK74SyV"
   },
   "source": [
    "### Check Fitness"
   ]
  },
  {
   "cell_type": "code",
   "execution_count": 41,
   "metadata": {
    "colab": {
     "base_uri": "https://localhost:8080/",
     "height": 34
    },
    "colab_type": "code",
    "executionInfo": {
     "elapsed": 44322,
     "status": "ok",
     "timestamp": 1543574350094,
     "user": {
      "displayName": "Gemilang Santiyuda",
      "photoUrl": "",
      "userId": "13933041437764231854"
     },
     "user_tz": 0
    },
    "id": "q-WzCZqb4QfJ",
    "outputId": "6e947d69-1122-4b93-88de-7e35ff161604"
   },
   "outputs": [
    {
     "name": "stdout",
     "output_type": "stream",
     "text": [
      "Testing accuracy 0.4025010905918278\n",
      "Testing F1 score: 0.36535988288264754\n"
     ]
    },
    {
     "name": "stderr",
     "output_type": "stream",
     "text": [
      "/home/gemilang/.local/lib/python3.7/site-packages/sklearn/metrics/classification.py:1143: UndefinedMetricWarning: F-score is ill-defined and being set to 0.0 in labels with no predicted samples.\n",
      "  'precision', 'predicted', average, warn_for)\n"
     ]
    }
   ],
   "source": [
    "from sklearn.metrics import accuracy_score, f1_score\n",
    "print('Testing accuracy %s' % accuracy_score(Y_dataTest, Y_prediction))\n",
    "print('Testing F1 score: {}'.format(f1_score(Y_dataTest, Y_prediction, average='weighted')))"
   ]
  }
 ],
 "metadata": {
  "colab": {
   "name": "Sentiment Analysis (Training and Testing).ipynb",
   "provenance": [],
   "version": "0.3.2"
  },
  "kernelspec": {
   "display_name": "Python 3",
   "language": "python",
   "name": "python3"
  },
  "language_info": {
   "codemirror_mode": {
    "name": "ipython",
    "version": 3
   },
   "file_extension": ".py",
   "mimetype": "text/x-python",
   "name": "python",
   "nbconvert_exporter": "python",
   "pygments_lexer": "ipython3",
   "version": "3.7.1"
  }
 },
 "nbformat": 4,
 "nbformat_minor": 1
}
